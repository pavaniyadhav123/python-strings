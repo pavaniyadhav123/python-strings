{
  "cells": [
    {
      "cell_type": "markdown",
      "id": "b5fabd6b",
      "metadata": {
        "id": "b5fabd6b"
      },
      "source": [
        "<a href=\"https://www.viharatech.com\"><img src=\"https://miro.medium.com/v2/resize:fit:828/format:webp/1*on2Bpj6A5gfd-CzaFOAZRA.jpeg\"></a>\n",
        "\n",
        "\n",
        "- `Welcome to our interactive learning session! In this Jupyter notebook, you'll find a series of questions related to Python String Concept. To maximize your learning, please write Python code in the cell below each question and execute it. This hands-on practice will help reinforce your understanding of the concepts. Feel free to reach out if you have any questions or need assistance. Happy coding! 💻🐍 `"
      ]
    },
    {
      "cell_type": "markdown",
      "id": "db689fc2",
      "metadata": {
        "id": "db689fc2"
      },
      "source": [
        "### Question 1: Write a Python program to count the number of characters in a string without using len function.\n",
        "\n",
        "- `sample input : `\n",
        "    - `var = 'python java'`\n",
        "- `sample output :`\n",
        "    - `result : 11`"
      ]
    },
    {
      "cell_type": "code",
      "execution_count": null,
      "id": "c9ce9180",
      "metadata": {
        "colab": {
          "base_uri": "https://localhost:8080/"
        },
        "id": "c9ce9180",
        "outputId": "b61070b8-604f-4ea2-cccc-a53dc176406f"
      },
      "outputs": [
        {
          "output_type": "stream",
          "name": "stdout",
          "text": [
            "11\n"
          ]
        }
      ],
      "source": [
        "# please write the solution here for above question 1:\n",
        "a = 'python java'\n",
        "count = 0\n",
        "for i in a:\n",
        "  count = count + 1\n",
        "print(count)\n"
      ]
    },
    {
      "cell_type": "markdown",
      "id": "46f069cc",
      "metadata": {
        "id": "46f069cc"
      },
      "source": [
        "### Question 2: Write a Python program to reverse a string without using [::-1]\n",
        "\n",
        "- `sample input : `\n",
        "    - `var = 'python'`\n",
        "- `sample output :`\n",
        "    - `result : nohtyp`"
      ]
    },
    {
      "cell_type": "code",
      "execution_count": 11,
      "id": "2cde3dcc",
      "metadata": {
        "id": "2cde3dcc",
        "colab": {
          "base_uri": "https://localhost:8080/"
        },
        "outputId": "f705b9ea-e534-437a-a5e1-8c8cef1e9e0c"
      },
      "outputs": [
        {
          "output_type": "stream",
          "name": "stdout",
          "text": [
            "nohtyp\n"
          ]
        }
      ],
      "source": [
        "#please write the solution here for above question\n",
        "var='python'\n",
        "res=\"\"\n",
        "for i in var:\n",
        "  res=i+res\n",
        "print(res)\n",
        "\n",
        "\n",
        "\n"
      ]
    },
    {
      "cell_type": "markdown",
      "id": "0f3a2ef5",
      "metadata": {
        "id": "0f3a2ef5"
      },
      "source": [
        "### Question 3: Write a Python program to check if a string is a palindrome don't use [::-1].\n",
        "\n",
        "- `sample input : `\n",
        "    - `var = 'NUN'`\n",
        "- `sample output :`\n",
        "    - `result : It is a Palindrome`\n",
        "    \n",
        "- `palindrome concept = https://www.dictionary.com/e/palindromic-word/#:~:text=A%20palindrome%20is%20a%20word,roots%20in%20the%20early%201600s.`"
      ]
    },
    {
      "cell_type": "code",
      "execution_count": 17,
      "id": "74b9f01a",
      "metadata": {
        "id": "74b9f01a",
        "colab": {
          "base_uri": "https://localhost:8080/"
        },
        "outputId": "0a5441eb-95ec-4b6a-ceaf-8aebc44345bd"
      },
      "outputs": [
        {
          "output_type": "stream",
          "name": "stdout",
          "text": [
            "its a palindrom\n"
          ]
        }
      ],
      "source": [
        "# Please write The solution Here for above question 3:\n",
        "a='NUN'\n",
        "c=\"\" #empty str\n",
        "for i in a: #N\n",
        "  c=i+c #NU\n",
        "if a==c:\n",
        "  print('its a palindrom')\n",
        "else:\n",
        "  print('not a palindrom')\n",
        "\n"
      ]
    },
    {
      "cell_type": "markdown",
      "id": "98e0fc60",
      "metadata": {
        "id": "98e0fc60"
      },
      "source": [
        "### Question 4: Write a Python program to find the most common character in a string.\n",
        "\n",
        "- `sample input : `\n",
        "    - `var = 'Hello world '`\n",
        "- `sample output :`\n",
        "    - `result : l, because l is repeating 3 times `"
      ]
    },
    {
      "cell_type": "code",
      "execution_count": null,
      "id": "d9aa4ca6",
      "metadata": {
        "id": "d9aa4ca6"
      },
      "outputs": [],
      "source": [
        "# Please write The solution Here for above question 4:\n",
        "pass\n",
        "\n",
        "\n"
      ]
    },
    {
      "cell_type": "markdown",
      "id": "17eb44eb",
      "metadata": {
        "id": "17eb44eb"
      },
      "source": [
        "### Question 5: Write a Python program to check if two strings are anagrams.\n",
        "\n",
        "- `sample input : `\n",
        "    - `var1 = 'listen'`\n",
        "    - `var2 = 'silent'`\n",
        "- `sample output :`\n",
        "    - `result : both are anagram because characters in var2 should present in var1 `"
      ]
    },
    {
      "cell_type": "code",
      "execution_count": 18,
      "id": "29f0e87e",
      "metadata": {
        "id": "29f0e87e",
        "colab": {
          "base_uri": "https://localhost:8080/"
        },
        "outputId": "6d0c2c54-49d1-4b57-df6e-a9900fbb657c"
      },
      "outputs": [
        {
          "output_type": "stream",
          "name": "stdout",
          "text": [
            "both are anagram because characters in var2 should present in var1\n"
          ]
        }
      ],
      "source": [
        "# Please write The solution Here for above question 5:\n",
        "var1 = 'listen'\n",
        "var2 =  'silent'\n",
        "var1=sorted(var1)\n",
        "var2=sorted(var2)\n",
        "if var2==var1:\n",
        "   print('both are anagram because characters in var2 should present in var1')\n",
        "else:\n",
        "  print('both are not anagram because characters in var2 should present in var1')\n",
        "\n"
      ]
    },
    {
      "cell_type": "markdown",
      "id": "fac17884",
      "metadata": {
        "id": "fac17884"
      },
      "source": [
        "### Question 6: Write a Python program to remove all the vowels from a string.\n",
        "\n",
        "- `sample input : `\n",
        "    - `var = 'python'`\n",
        "- `sample output :`\n",
        "    - `result : pythn , because vowels are [AEIOUaeiou]`"
      ]
    },
    {
      "cell_type": "code",
      "execution_count": 19,
      "id": "f4b33095",
      "metadata": {
        "id": "f4b33095",
        "colab": {
          "base_uri": "https://localhost:8080/"
        },
        "outputId": "56446fe3-5095-4235-c9fa-14a0453b38df"
      },
      "outputs": [
        {
          "output_type": "stream",
          "name": "stdout",
          "text": [
            "pythn"
          ]
        }
      ],
      "source": [
        "# Please write The solution Here for above question 6:\n",
        "var='python'\n",
        "a=''\n",
        "for i in var:\n",
        "  if i not in 'aeiouAEIOU':\n",
        "   a=a+i\n",
        "print(a,end='')\n",
        "\n",
        "\n",
        "\n"
      ]
    },
    {
      "cell_type": "markdown",
      "id": "2170d6f4",
      "metadata": {
        "id": "2170d6f4"
      },
      "source": [
        "### Question 7: Write a Python program to find the longest word in a string.\n",
        "\n",
        "- `sample input : `\n",
        "    - `var = 'python is Easy Language'`\n",
        "- `sample output :`\n",
        "    - `result : Language`"
      ]
    },
    {
      "cell_type": "code",
      "execution_count": 24,
      "id": "f35de8b3",
      "metadata": {
        "id": "f35de8b3",
        "colab": {
          "base_uri": "https://localhost:8080/"
        },
        "outputId": "e2fe5d3e-589a-453c-dba3-617465a97e18"
      },
      "outputs": [
        {
          "output_type": "stream",
          "name": "stdout",
          "text": [
            "longest word->Language\n"
          ]
        }
      ],
      "source": [
        "# Please write The solution Here for above question 7:'\n",
        "a='Python is Easy Language'\n",
        "b=a.split()\n",
        "c=''\n",
        "for i in b: #python\n",
        "  if len(i)>len(c):\n",
        "    c=i\n",
        "print(f'longest word->{c}')\n",
        "\n",
        "\n"
      ]
    },
    {
      "cell_type": "markdown",
      "id": "f349bdb7",
      "metadata": {
        "id": "f349bdb7"
      },
      "source": [
        "### Question 8: Write a Python program to capitalize the first letter of each word in a string [dont use built-in-function called title].\n",
        "\n",
        "- `sample input : `\n",
        "    - `var = 'python is easy'`\n",
        "- `sample output :`\n",
        "    - `result : Python Is Easy`"
      ]
    },
    {
      "cell_type": "code",
      "execution_count": 25,
      "id": "a1b4c4e6",
      "metadata": {
        "id": "a1b4c4e6",
        "colab": {
          "base_uri": "https://localhost:8080/"
        },
        "outputId": "35675390-41ed-4a33-efad-3deacc5bb61c"
      },
      "outputs": [
        {
          "output_type": "stream",
          "name": "stdout",
          "text": [
            "PythonIsEasy\n"
          ]
        }
      ],
      "source": [
        "# Please write The solution Here for above question 8:\n",
        "var='python is easy'\n",
        "a=var.split()#'python','is'\n",
        "b=''#empty\n",
        "for i in a:#i=python,\n",
        "  b=b+i.capitalize()+''\n",
        "print(b)\n",
        "\n"
      ]
    },
    {
      "cell_type": "markdown",
      "id": "d2770696",
      "metadata": {
        "id": "d2770696"
      },
      "source": [
        "### Question 9: Write a Python program to find the frequency of each character in a string.\n",
        "\n",
        "- `sample input : `\n",
        "    - `var = 'sharuk khan'`\n",
        "- `sample output :`\n",
        "    - `result : {'s': 1, 'h': 2, 'a': 2, 'r': 1, 'u': 1, 'k': 2, ' ': 1, 'n': 1}`"
      ]
    },
    {
      "cell_type": "code",
      "execution_count": 26,
      "id": "7fdc2e9c",
      "metadata": {
        "id": "7fdc2e9c",
        "colab": {
          "base_uri": "https://localhost:8080/"
        },
        "outputId": "a1dae44b-b522-46b0-88ea-529398cb75b6"
      },
      "outputs": [
        {
          "output_type": "stream",
          "name": "stdout",
          "text": [
            "{'s': 1}\n",
            "{'s': 1, 'h': 1}\n",
            "{'s': 1, 'h': 1, 'a': 1}\n",
            "{'s': 1, 'h': 1, 'a': 1, 'r': 1}\n",
            "{'s': 1, 'h': 1, 'a': 1, 'r': 1, 'u': 1}\n",
            "{'s': 1, 'h': 1, 'a': 1, 'r': 1, 'u': 1, 'k': 1}\n",
            "{'s': 1, 'h': 1, 'a': 1, 'r': 1, 'u': 1, 'k': 1, ' ': 1}\n",
            "{'s': 1, 'h': 1, 'a': 1, 'r': 1, 'u': 1, 'k': 2, ' ': 1}\n",
            "{'s': 1, 'h': 2, 'a': 1, 'r': 1, 'u': 1, 'k': 2, ' ': 1}\n",
            "{'s': 1, 'h': 2, 'a': 2, 'r': 1, 'u': 1, 'k': 2, ' ': 1}\n",
            "{'s': 1, 'h': 2, 'a': 2, 'r': 1, 'u': 1, 'k': 2, ' ': 1, 'n': 1}\n"
          ]
        }
      ],
      "source": [
        "# Please write The solution Here for above question 9:\n",
        "var='sharuk khan'\n",
        "d={}#empty dict\n",
        "for i in var:#s\n",
        "  if i in d:#\n",
        "    d[i]=1+d[i]#1+0=1\n",
        "  else:\n",
        "    d[i]=1\n",
        "  print(d)\n",
        "\n"
      ]
    },
    {
      "cell_type": "markdown",
      "id": "5c9a3f09",
      "metadata": {
        "id": "5c9a3f09"
      },
      "source": [
        "### Question 10: write a python programme to find the sum of all the even characters based on Ascii values\n",
        "\n",
        "- `sample input : `\n",
        "    - `var = 'sharuk khan'`\n",
        "- `sample output :`\n",
        "    - `result : 464`\n"
      ]
    },
    {
      "cell_type": "code",
      "execution_count": null,
      "id": "57c0c30e",
      "metadata": {
        "id": "57c0c30e"
      },
      "outputs": [],
      "source": [
        "# Please write The solution Here for above question 10:\n",
        "pass\n",
        "\n"
      ]
    },
    {
      "cell_type": "code",
      "execution_count": null,
      "id": "0f50a5f5",
      "metadata": {
        "id": "0f50a5f5"
      },
      "outputs": [],
      "source": []
    }
  ],
  "metadata": {
    "colab": {
      "provenance": []
    },
    "kernelspec": {
      "display_name": "Python 3 (ipykernel)",
      "language": "python",
      "name": "python3"
    },
    "language_info": {
      "codemirror_mode": {
        "name": "ipython",
        "version": 3
      },
      "file_extension": ".py",
      "mimetype": "text/x-python",
      "name": "python",
      "nbconvert_exporter": "python",
      "pygments_lexer": "ipython3",
      "version": "3.11.5"
    }
  },
  "nbformat": 4,
  "nbformat_minor": 5
}